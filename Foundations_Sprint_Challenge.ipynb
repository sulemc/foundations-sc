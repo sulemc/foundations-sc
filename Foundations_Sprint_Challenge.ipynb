{
  "nbformat": 4,
  "nbformat_minor": 0,
  "metadata": {
    "colab": {
      "name": "Foundations Sprint Challenge.ipynb",
      "version": "0.3.2",
      "provenance": [],
      "include_colab_link": true
    },
    "kernelspec": {
      "name": "python3",
      "display_name": "Python 3"
    }
  },
  "cells": [
    {
      "cell_type": "markdown",
      "metadata": {
        "id": "view-in-github",
        "colab_type": "text"
      },
      "source": [
        "[View in Colaboratory](https://colab.research.google.com/github/DreamsOfBunnies/foundations-sc/blob/master/Foundations_Sprint_Challenge.ipynb)"
      ]
    },
    {
      "metadata": {
        "id": "Hjem_kCEjNkz",
        "colab_type": "text"
      },
      "cell_type": "markdown",
      "source": [
        "# Mathematical Foundations of Machine Learning\n",
        "\n",
        "There are four objectives in *Functions and Optima*\n",
        "\n",
        "* graph some of the typical shapes of a 2d function\n",
        "* link a function with a table of values\n",
        "* calculate the derivative of `f(x)`\n",
        "\n",
        "There are seven objectives in *Linear Algebra*\n",
        "\n",
        "* create and edit a vector of scalars with numpy\n",
        "* add two vectors together\n",
        "* subtract a vector from another vector\n",
        "* calculate the magnitude of a vector in numpy\n",
        "* multiply a simple affine matrix with a vector\n",
        "* invert a matrix and describe what it does\n",
        "* tranpose a matrix\n",
        "\n",
        "Create solutions for the following code blocks. This exercise should take ~ 3 hours.\n",
        "\n",
        "Share with `mlsubmissions@lambdaschool.com` when finished.\n"
      ]
    },
    {
      "metadata": {
        "id": "gEXZL2ougNqP",
        "colab_type": "code",
        "colab": {}
      },
      "cell_type": "code",
      "source": [
        "# A Change!!!\n",
        "# Another Change!!!\n",
        "# One more time.\n",
        "\n",
        "# LAMBDA SCHOOL\n",
        "#\n",
        "# MACHINE LEARNING\n",
        "#\n",
        "# MIT LICENSE\n",
        "\n",
        "import numpy as np\n",
        "import matplotlib.pyplot as plt"
      ],
      "execution_count": 0,
      "outputs": []
    },
    {
      "metadata": {
        "id": "IMYdRcCIo7kO",
        "colab_type": "text"
      },
      "cell_type": "markdown",
      "source": [
        "### 1. graph some of the typical shape of a 2d function\n",
        "\n",
        "Draw a graph of $x^2$.\n",
        "\n",
        "Draw a graph of $sin(x)$"
      ]
    },
    {
      "metadata": {
        "id": "ROCz3hqGpWMB",
        "colab_type": "code",
        "colab": {}
      },
      "cell_type": "code",
      "source": [
        "# x is a numpy array with 25 values."
      ],
      "execution_count": 0,
      "outputs": []
    },
    {
      "metadata": {
        "id": "3Gp46dadphJr",
        "colab_type": "text"
      },
      "cell_type": "markdown",
      "source": [
        "### 2. link a function with a table of values"
      ]
    },
    {
      "metadata": {
        "id": "E_dpXiLqq82n",
        "colab_type": "code",
        "colab": {}
      },
      "cell_type": "code",
      "source": [
        "x = [[0,1,2,3,4],[-6.28,-3.14,0,3.14,6.28],[0,0,0,0,0]]\n",
        "\n",
        "# plot each function in this table\n",
        "# Are the functions related?"
      ],
      "execution_count": 0,
      "outputs": []
    },
    {
      "metadata": {
        "id": "T18SMN8XsIiL",
        "colab_type": "text"
      },
      "cell_type": "markdown",
      "source": [
        "### 3. calculate the derivative of f(x)"
      ]
    },
    {
      "metadata": {
        "id": "oiuoP1YbsQ_-",
        "colab_type": "code",
        "colab": {}
      },
      "cell_type": "code",
      "source": [
        "def f(x):\n",
        "  None # return the derivative of sin(x) at x \n",
        "\n",
        "d_f = f(x)\n",
        "  \n",
        "def fd(x,y):\n",
        "  None # return the derivative at the first pair of values of y\n",
        "\n",
        "d_fd = fd([0,1],[0,-2])"
      ],
      "execution_count": 0,
      "outputs": []
    },
    {
      "metadata": {
        "id": "gR58aBH_sysw",
        "colab_type": "text"
      },
      "cell_type": "markdown",
      "source": [
        "### 4. create and edit a vector of scalars"
      ]
    },
    {
      "metadata": {
        "id": "OqoDU_lytAd0",
        "colab_type": "code",
        "colab": {}
      },
      "cell_type": "code",
      "source": [
        "# Create a vector v containing seven 1s\n",
        "\n",
        "None\n",
        "\n",
        "# Set the 4th element of x to -1\n",
        "\n",
        "None"
      ],
      "execution_count": 0,
      "outputs": []
    },
    {
      "metadata": {
        "id": "UO1l6GIHtFQq",
        "colab_type": "text"
      },
      "cell_type": "markdown",
      "source": [
        "### 5. add two vectors together\n",
        "\n",
        "$z = \\begin{pmatrix} 2 \\\\ -1 \\end{pmatrix} + \\begin{pmatrix} 2 \\\\ -1 \\end{pmatrix}$"
      ]
    },
    {
      "metadata": {
        "id": "1IwIqoCotFjh",
        "colab_type": "code",
        "colab": {}
      },
      "cell_type": "code",
      "source": [
        "# x =\n",
        "# y =\n",
        "\n",
        "# z ="
      ],
      "execution_count": 0,
      "outputs": []
    },
    {
      "metadata": {
        "id": "HIh6q1Vatfny",
        "colab_type": "text"
      },
      "cell_type": "markdown",
      "source": [
        "### 6. subtract a vector from another vector\n",
        "\n",
        "$z = \\begin{pmatrix} 1 \\\\ 3 \\end{pmatrix} - \\begin{pmatrix} -2 \\\\ -3.5 \\end{pmatrix}$"
      ]
    },
    {
      "metadata": {
        "id": "9d8B5zZntfza",
        "colab_type": "code",
        "colab": {}
      },
      "cell_type": "code",
      "source": [
        "# x =\n",
        "# y =\n",
        "\n",
        "# z ="
      ],
      "execution_count": 0,
      "outputs": []
    },
    {
      "metadata": {
        "id": "GuQIppvztwic",
        "colab_type": "text"
      },
      "cell_type": "markdown",
      "source": [
        "### 7. calculate the magnitude of a vector\n",
        "\n",
        "$|m| = \\sqrt{\\sum{v_i^2}}$"
      ]
    },
    {
      "metadata": {
        "id": "Bq4SRNGxtwtg",
        "colab_type": "code",
        "colab": {}
      },
      "cell_type": "code",
      "source": [
        "v = [1,2,3,4,5]\n",
        "\n",
        "# what's the magnitude of v?\n",
        "None"
      ],
      "execution_count": 0,
      "outputs": []
    },
    {
      "metadata": {
        "id": "7RcMUt6DuBhj",
        "colab_type": "text"
      },
      "cell_type": "markdown",
      "source": [
        "### 8. multiply a simple affine matrix with a vector\n",
        "\n",
        "$\\begin{pmatrix} 1.1 & 0.9 & 0 \\\\ 0.8 & 1.2 & 0 \\\\ 1 & -1 & 1 \\end{pmatrix} \\begin{pmatrix} 1 \\\\ 0 \\\\ 1 \\end{pmatrix} = v$"
      ]
    },
    {
      "metadata": {
        "id": "V8NheQtvuBtB",
        "colab_type": "code",
        "colab": {}
      },
      "cell_type": "code",
      "source": [
        "# Mv_0 = v\n",
        "\n",
        "None"
      ],
      "execution_count": 0,
      "outputs": []
    },
    {
      "metadata": {
        "id": "BEU9fRO9un2j",
        "colab_type": "text"
      },
      "cell_type": "markdown",
      "source": [
        "### 9. invert a matrix and describe what it does\n",
        "\n",
        "$MM^{-1} = I$\n",
        "\n",
        "$M = \\begin{pmatrix} 1.1 & 0.9 \\\\ 0.8 & 1.2 \\end{pmatrix}$"
      ]
    },
    {
      "metadata": {
        "id": "-bPoIcLzun_0",
        "colab_type": "code",
        "colab": {}
      },
      "cell_type": "code",
      "source": [
        "# M\n",
        "\n",
        "None\n",
        "\n",
        "# M^{-1}\n",
        "\n",
        "None\n",
        "\n",
        "# MM^{-1}"
      ],
      "execution_count": 0,
      "outputs": []
    },
    {
      "metadata": {
        "id": "X54wAqrdvM4g",
        "colab_type": "text"
      },
      "cell_type": "markdown",
      "source": [
        "### 10. transpose a matrix\n",
        "\n",
        "$M_{(MxN)}^T = M_{(NxM)}^T$\n",
        "\n",
        "$M = \\begin{pmatrix} 1.1 & 0.9 & 0 \\\\ 0.8 & 1.2 & 0 \\end{pmatrix}$"
      ]
    },
    {
      "metadata": {
        "id": "0YoT92CTvNCa",
        "colab_type": "code",
        "colab": {}
      },
      "cell_type": "code",
      "source": [
        "# M\n",
        "\n",
        "None\n",
        "\n",
        "# M^T\n",
        "\n",
        "None\n",
        "\n",
        "# Shape of M?"
      ],
      "execution_count": 0,
      "outputs": []
    }
  ]
}